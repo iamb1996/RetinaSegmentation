{
 "cells": [
  {
   "cell_type": "code",
   "execution_count": 431,
   "metadata": {},
   "outputs": [],
   "source": [
    "# Fonction defini au préalable\n",
    "def segment_fundus(mask , fundus , manual_segments): \n",
    "\n",
    "    mask = cv2.imread(mask , 0 )\n",
    "    manual_seg = cv2.imread(manual_segments  ,  0)\n",
    "    dim = (565 , 584)\n",
    "    manual_seg = cv2.resize(manual_seg, dim, interpolation = cv2.INTER_AREA)\n",
    "    fundus = cv2.imread(fundus)\n",
    "    b,green_fundus,r = cv2.split(fundus)\n",
    "    clahe = cv2.createCLAHE(clipLimit=2.0, tileGridSize=(8,8))\n",
    "    contrast_enhanced_green_fundus = clahe.apply(green_fundus)\n",
    "\n",
    "# applying alternate sequential filtering (3 times closing opening)\n",
    "    r1 = cv2.morphologyEx(contrast_enhanced_green_fundus, cv2.MORPH_OPEN, cv2.getStructuringElement(cv2.MORPH_ELLIPSE,(5,5)), iterations = 1)\n",
    "    R1 = cv2.morphologyEx(r1, cv2.MORPH_CLOSE, cv2.getStructuringElement(cv2.MORPH_ELLIPSE,(5,5)), iterations = 1)\n",
    "    r2 = cv2.morphologyEx(R1, cv2.MORPH_OPEN, cv2.getStructuringElement(cv2.MORPH_ELLIPSE,(11,11)), iterations = 1)\n",
    "    R2 = cv2.morphologyEx(r2, cv2.MORPH_CLOSE, cv2.getStructuringElement(cv2.MORPH_ELLIPSE,(11,11)), iterations = 1)\n",
    "    r3 = cv2.morphologyEx(R2, cv2.MORPH_OPEN, cv2.getStructuringElement(cv2.MORPH_ELLIPSE,(23,23)), iterations = 1)\n",
    "    R3 = cv2.morphologyEx(r3, cv2.MORPH_CLOSE, cv2.getStructuringElement(cv2.MORPH_ELLIPSE,(23,23)), iterations = 1)\n",
    "    f4 = cv2.subtract(R3,contrast_enhanced_green_fundus)\n",
    "    f5 = clahe.apply(f4)\n",
    "    \n",
    "    f5 = cv2.medianBlur(f5,5)\n",
    "\n",
    "    #f5_close = cv2.morphologyEx(f5, cv2.MORPH_CLOSE, cv2.getStructuringElement(cv2.MORPH_ELLIPSE,(2,2)), iterations = 1)\n",
    "    ret,f6 = cv2.threshold(f5,15,255,cv2.THRESH_BINARY)\n",
    "    mask1 = np.ones(f5.shape[:2], dtype=\"uint8\") * 255\n",
    "\n",
    "    contours, im2 = cv2.findContours(f6.copy(),cv2.RETR_LIST,cv2.CHAIN_APPROX_SIMPLE)\n",
    "    for cnt in contours:\n",
    "        if cv2.contourArea(cnt) <= 200:\n",
    "            cv2.drawContours(mask1, [cnt], -1, 0, -1)\n",
    "            im = cv2.bitwise_and(f6, f6, mask=mask1)\n",
    "            ret,fin = cv2.threshold(im,15,255,cv2.THRESH_BINARY_INV)\n",
    "            newfin = cv2.erode(fin, cv2.getStructuringElement(cv2.MORPH_ELLIPSE,(3,3)), iterations=1)\n",
    "    # removing blobs of unwanted bigger chunks taking in consideration they are not straight lines like blood\n",
    "#vessels and also in an interval of area\n",
    "    fundus_eroded = cv2.bitwise_not(newfin)\n",
    "    xmask = np.ones(fundus.shape[:2], dtype=\"uint8\") * 255\n",
    "    xcontours, x1 = cv2.findContours(fundus_eroded.copy(),cv2.RETR_LIST,cv2.CHAIN_APPROX_SIMPLE)\n",
    "    for cnt in xcontours:\n",
    "        shape = \"unidentified\"\n",
    "        peri = cv2.arcLength(cnt, True)\n",
    "        approx = cv2.approxPolyDP(cnt, 0.04 * peri, False)\n",
    "        if len(approx) > 4 and cv2.contourArea(cnt) <= 3000 and cv2.contourArea(cnt) >= 100:\n",
    "            shape = \"circle\"\n",
    "        else:\n",
    "            shape = \"veins\"\n",
    "        if(shape==\"circle\"):\n",
    "            cv2.drawContours(xmask, [cnt], -1, 0, -1)\n",
    "            finimage = cv2.bitwise_and(fundus_eroded,fundus_eroded,mask=xmask)\n",
    "            blood_vessels = cv2.bitwise_not(finimage)\n",
    "\n",
    "    blood_vessels_substracted = cv2.subtract(mask,blood_vessels)\n",
    "    return blood_vessels_substracted"
   ]
  },
  {
   "cell_type": "code",
   "execution_count": 416,
   "metadata": {},
   "outputs": [],
   "source": [
    "import cv2\n",
    "import numpy as np\n",
    "from skimage.metrics import structural_similarity\n",
    "import umetrics"
   ]
  },
  {
   "cell_type": "code",
   "execution_count": 432,
   "metadata": {},
   "outputs": [
    {
     "name": "stdout",
     "output_type": "stream",
     "text": [
      "(584, 565) (584, 565)\n"
     ]
    }
   ],
   "source": [
    "Manual_seg_path = r\"C:\\Users\\hp\\Downloads\\imageprocessingproject\\retina-features-master\\DRIVE\\data\\1st_manual\\22_manual1.png\"\n",
    "masks_path = r'C:\\Users\\hp\\Downloads\\imageprocessingproject\\retina-features-master\\DRIVE\\data\\mask\\mask22.png'\n",
    "mask = cv2.imread(masks_path , 0 )\n",
    "manual_seg = cv2.imread(Manual_seg_path  ,  0)\n",
    "dim = (565 , 584)\n",
    "manual_seg = cv2.resize(manual_seg, dim, interpolation = cv2.INTER_AREA)\n",
    "print(mask.shape , manual_seg.shape)\n",
    "PathFile = r\"C:\\Users\\hp\\Downloads\\imageprocessingproject\\retina-features-master\\DRIVE\\data\\images\\22_training.tif\"\n",
    "fundus = cv2.imread(PathFile)"
   ]
  },
  {
   "cell_type": "code",
   "execution_count": 476,
   "metadata": {},
   "outputs": [],
   "source": [
    "b,green_fundus,r = cv2.split(fundus)\n",
    "clahe = cv2.createCLAHE(clipLimit=2.0, tileGridSize=(8,8))\n",
    "contrast_enhanced_green_fundus = clahe.apply(green_fundus)\n",
    "\n",
    "# applying alternate sequential filtering (3 times closing opening)\n",
    "o1 = cv2.morphologyEx(contrast_enhanced_green_fundus, cv2.MORPH_OPEN, cv2.getStructuringElement(cv2.MORPH_ELLIPSE,(5,5)), iterations = 1)\n",
    "c1 = cv2.morphologyEx(o1, cv2.MORPH_CLOSE, cv2.getStructuringElement(cv2.MORPH_ELLIPSE,(5,5)), iterations = 1)\n",
    "o2 = cv2.morphologyEx(c1, cv2.MORPH_OPEN, cv2.getStructuringElement(cv2.MORPH_ELLIPSE,(11,11)), iterations = 1)\n",
    "c2 = cv2.morphologyEx(o2, cv2.MORPH_CLOSE, cv2.getStructuringElement(cv2.MORPH_ELLIPSE,(11,11)), iterations = 1)\n",
    "o3 = cv2.morphologyEx(c2, cv2.MORPH_OPEN, cv2.getStructuringElement(cv2.MORPH_ELLIPSE,(23,23)), iterations = 1)\n",
    "c3 = cv2.morphologyEx(o3, cv2.MORPH_CLOSE, cv2.getStructuringElement(cv2.MORPH_ELLIPSE,(23,23)), iterations = 1)\n",
    "f4 = cv2.subtract(c3,contrast_enhanced_green_fundus)\n",
    "f5 = clahe.apply(f4)"
   ]
  },
  {
   "cell_type": "code",
   "execution_count": 477,
   "metadata": {},
   "outputs": [],
   "source": [
    "f5 = cv2.medianBlur(f5,5)\n",
    "cv2.imshow(\"Processing1 image\", f5)\n",
    "cv2.waitKey(0)\n",
    "cv2.destroyAllWindows()"
   ]
  },
  {
   "cell_type": "code",
   "execution_count": 487,
   "metadata": {},
   "outputs": [],
   "source": [
    "# removing very small contours through area parameter noise removal\n",
    "ret,f6 = cv2.threshold(f5,20,255,cv2.THRESH_BINARY)\n",
    "mask1 = np.ones(f5.shape[:2], dtype=\"uint8\") * 255\n",
    "cv2.imshow(\"Processing2 image\", f6)\n",
    "cv2.waitKey(0)\n",
    "cv2.destroyAllWindows()"
   ]
  },
  {
   "cell_type": "code",
   "execution_count": 488,
   "metadata": {},
   "outputs": [],
   "source": [
    "contours, im2 = cv2.findContours(f6.copy(),cv2.RETR_LIST,cv2.CHAIN_APPROX_SIMPLE)\n",
    "for cnt in contours:\n",
    "    if cv2.contourArea(cnt) <= 50:\n",
    "        cv2.drawContours(mask1, [cnt], -1, 0, -1)\n",
    "        im = cv2.bitwise_and(f6, f6, mask=mask1)\n",
    "        ret,fin = cv2.threshold(im,15,255,cv2.THRESH_BINARY_INV)\n",
    "        newfin = cv2.erode(fin, cv2.getStructuringElement(cv2.MORPH_ELLIPSE,(3,3)), iterations=1)\n",
    "        \n",
    "cv2.imshow('Noises Removed', newfin)\n",
    "cv2.waitKey(0) # waits until a key is pressed\n",
    "cv2.destroyAllWindows() # destro"
   ]
  },
  {
   "cell_type": "code",
   "execution_count": 486,
   "metadata": {},
   "outputs": [],
   "source": [
    "# removing blobs of unwanted bigger chunks taking in consideration they are not straight lines like blood\n",
    "#vessels and also in an interval of area\n",
    "fundus_eroded = cv2.bitwise_not(newfin)\n",
    "xmask = np.ones(fundus.shape[:2], dtype=\"uint8\") * 255\n",
    "xcontours, x1 = cv2.findContours(fundus_eroded.copy(),cv2.RETR_LIST,cv2.CHAIN_APPROX_SIMPLE)\n",
    "for cnt in xcontours:\n",
    "    shape = \"unidentified\"\n",
    "    peri = cv2.arcLength(cnt, True)\n",
    "    approx = cv2.approxPolyDP(cnt, 0.04 * peri, False)\n",
    "    if len(approx) > 4 and cv2.contourArea(cnt) <= 3000 and cv2.contourArea(cnt) >= 100:\n",
    "        shape = \"circle\"\n",
    "    else:\n",
    "        shape = \"veins\"\n",
    "    if(shape==\"circle\"):\n",
    "        cv2.drawContours(xmask, [cnt], -1, 0, -1)\n",
    "        finimage = cv2.bitwise_and(fundus_eroded,fundus_eroded,mask=xmask)\n",
    "        blood_vessels = cv2.bitwise_not(finimage)\n",
    "cv2.imshow(\"Unwanted Shapes removed\", blood_vessels)\n",
    "cv2.waitKey(0)\n",
    "cv2.destroyAllWindows()"
   ]
  },
  {
   "cell_type": "code",
   "execution_count": 37,
   "metadata": {},
   "outputs": [],
   "source": [
    "#eroding is done to eliminate the minor noises (post processing)"
   ]
  },
  {
   "cell_type": "code",
   "execution_count": 489,
   "metadata": {},
   "outputs": [],
   "source": [
    "blood_vessels_substracted = cv2.subtract(mask,newfin)\n",
    "cv2.imshow('Post-processings', blood_vessels_substracted)\n",
    "cv2.waitKey(0) # waits until a key is pressed\n",
    "cv2.destroyAllWindows() # destro"
   ]
  },
  {
   "cell_type": "markdown",
   "metadata": {},
   "source": [
    "<h1> Evaluations  </h1>"
   ]
  },
  {
   "cell_type": "code",
   "execution_count": 490,
   "metadata": {},
   "outputs": [],
   "source": [
    "# Evaluate Segmentation by comparing with the provided manual_segmentations\n",
    "\n",
    "cv2.imshow('Predicted_Segments', blood_vessels_substracted)\n",
    "cv2.waitKey(0) # waits until a key is pressed\n",
    "cv2.destroyAllWindows() # destroys the window showing image\n",
    "cv2.imshow('Manual_segments', manual_seg)\n",
    "cv2.waitKey(0) # waits until a key is pressed\n",
    "cv2.destroyAllWindows() # destroys the window showing image"
   ]
  },
  {
   "cell_type": "code",
   "execution_count": 491,
   "metadata": {},
   "outputs": [
    {
     "name": "stdout",
     "output_type": "stream",
     "text": [
      "0.7622187199959611\n"
     ]
    }
   ],
   "source": [
    "sim , diff = structural_similarity(blood_vessels_substracted, manual_seg , full = True)\n",
    "print(sim)"
   ]
  },
  {
   "cell_type": "code",
   "execution_count": 492,
   "metadata": {},
   "outputs": [],
   "source": [
    "cv2.imshow('Comparison', diff)\n",
    "cv2.waitKey(0) # waits until a key is pressed\n",
    "cv2.destroyAllWindows() # destroys the window showing image"
   ]
  },
  {
   "cell_type": "code",
   "execution_count": 494,
   "metadata": {},
   "outputs": [
    {
     "data": {
      "text/plain": [
       "0.7777777777777778"
      ]
     },
     "execution_count": 494,
     "metadata": {},
     "output_type": "execute_result"
    }
   ],
   "source": [
    "def orb_sim(img1 , img2) : \n",
    "    orb = cv2.ORB_create()\n",
    "    kp_a , desc_a = orb.detectAndCompute(img1 , None)\n",
    "    kp_b , desc_b = orb.detectAndCompute(img2 , None)\n",
    "    bf = cv2.BFMatcher(cv2.NORM_HAMMING , crossCheck = True)\n",
    "    # performing matches \n",
    "    matches = bf.match(desc_a , desc_b)\n",
    "    #looking for similar regions with disntance < 50 \n",
    "    similar_regions =[i for i in matches if i.distance < 50]\n",
    "    if len(matches) == 0:\n",
    "        return 0 \n",
    "    return len(similar_regions) / len(matches)\n",
    "orb_sim(blood_vessels_substracted , manual_seg)"
   ]
  },
  {
   "cell_type": "code",
   "execution_count": 495,
   "metadata": {},
   "outputs": [],
   "source": [
    "from sklearn.metrics import accuracy_score , confusion_matrix\n",
    "accuracy_score(blood_vessels_substracted.reshape(-1) , manual_seg.reshape(-1))\n",
    "matrice_de_confusion = confusion_matrix(blood_vessels_substracted.reshape(-1) , manual_seg.reshape(-1))"
   ]
  },
  {
   "cell_type": "code",
   "execution_count": 496,
   "metadata": {},
   "outputs": [
    {
     "data": {
      "text/plain": [
       "0.9503970178203418"
      ]
     },
     "execution_count": 496,
     "metadata": {},
     "output_type": "execute_result"
    }
   ],
   "source": [
    "np.trace(matrice_de_confusion) / matrice_de_confusion.sum()"
   ]
  },
  {
   "cell_type": "code",
   "execution_count": 497,
   "metadata": {
    "scrolled": true
   },
   "outputs": [
    {
     "name": "stdout",
     "output_type": "stream",
     "text": [
      "============================\n",
      " Segmentation Metrics (n=1)\n",
      "============================\n",
      "Strict: True (IoU > 0.5)\n",
      "n_true_labels: 2275\n",
      "n_pred_labels: 6339\n",
      "n_true_positives: 1724\n",
      "n_false_positives: 622\n",
      "n_false_negatives: 81\n",
      "IoU: 0.784\n",
      "Jaccard: 0.710\n",
      "pixel_identity: 0.950\n",
      "localization_error: 0.900\n",
      "\n"
     ]
    }
   ],
   "source": [
    "import umetrics\n",
    "result = umetrics.calculate(blood_vessels_substracted.reshape(-1), manual_seg.reshape(-1), strict=True, iou_threshold=0.5)\n",
    "\n",
    "print(result.results)"
   ]
  },
  {
   "cell_type": "markdown",
   "metadata": {},
   "source": [
    "<h1> Inference </h1>"
   ]
  },
  {
   "cell_type": "code",
   "execution_count": 427,
   "metadata": {},
   "outputs": [],
   "source": [
    "import os\n",
    "MaskFolder = r\"C:\\Users\\hp\\Downloads\\imageprocessingproject\\retina-features-master\\DRIVE\\data\\mask\"\n",
    "Manual_Segmentation_Folder = r\"C:\\Users\\hp\\Downloads\\imageprocessingproject\\retina-features-master\\DRIVE\\data\\1st_manual\"\n",
    "pathFolder = r\"C:\\Users\\hp\\Downloads\\imageprocessingproject\\retina-features-master\\DRIVE\\data\\images\"\n",
    "filesArray = [x for x in os.listdir(pathFolder) if os.path.isfile(os.path.join(pathFolder,x))]\n",
    "MaskArray = [x for x in os.listdir(MaskFolder) if os.path.isfile(os.path.join(MaskFolder,x))]\n",
    "ManualSegmentationArray = [x for x in os.listdir(Manual_Segmentation_Folder) if os.path.isfile(os.path.join(Manual_Segmentation_Folder,x))]"
   ]
  },
  {
   "cell_type": "code",
   "execution_count": 428,
   "metadata": {},
   "outputs": [],
   "source": [
    "#Test segmentations\n",
    "img = segment_fundus(masks_path , PathFile , Manual_seg_path)\n",
    "cv2.imshow('Predicted_segmentation', img)\n",
    "cv2.waitKey(0) # waits until a key is pressed\n",
    "cv2.destroyAllWindows() # destroys the window showing image"
   ]
  },
  {
   "cell_type": "code",
   "execution_count": 430,
   "metadata": {},
   "outputs": [],
   "source": [
    "# Writing Predicted segmentation and comparing them with manual segmentations\n",
    "destinationFolder = r\"C:\\Users\\hp\\Downloads\\imageprocessingproject\\retina-features-master\\Segmented_Images\"\n",
    "comparisonFolder = r\"C:\\Users\\hp\\Downloads\\imageprocessingproject\\retina-features-master\\ComparisonFolder\"\n",
    "if not os.path.exists(destinationFolder):\n",
    "    os.mkdir(destinationFolder)\n",
    "for file_name, mask_file , manualseg_file in  zip(filesArray , MaskArray , ManualSegmentationArray):\n",
    "    file_name_no_extension = os.path.splitext(file_name)[0]\n",
    "    mask = os.path.join(MaskFolder , mask_file)\n",
    "    fundus = os.path.join(pathFolder , file_name)\n",
    "    manual = os.path.join(Manual_Segmentation_Folder , manualseg_file)\n",
    "    manual_image = cv2.imread(manual  ,  0)\n",
    "    bloodvessel = segment_fundus(mask , fundus , manual)\n",
    "    sim , diff = structural_similarity(bloodvessel, manual_image , full = True)\n",
    "    cv2.imwrite(os.path.join(destinationFolder , file_name_no_extension) +  \"_bloodvessel.png\",bloodvessel)\n",
    "    cv2.imwrite(os.path.join(comparisonFolder , file_name_no_extension) +  \"comparison.png\",diff*255)"
   ]
  }
 ],
 "metadata": {
  "kernelspec": {
   "display_name": "Python 3",
   "language": "python",
   "name": "python3"
  },
  "language_info": {
   "codemirror_mode": {
    "name": "ipython",
    "version": 3
   },
   "file_extension": ".py",
   "mimetype": "text/x-python",
   "name": "python",
   "nbconvert_exporter": "python",
   "pygments_lexer": "ipython3",
   "version": "3.7.6"
  }
 },
 "nbformat": 4,
 "nbformat_minor": 4
}
